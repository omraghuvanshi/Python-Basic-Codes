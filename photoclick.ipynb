{
 "cells": [
  {
   "cell_type": "code",
   "execution_count": 1,
   "id": "e1c306bb",
   "metadata": {},
   "outputs": [],
   "source": [
    "import cv2"
   ]
  },
  {
   "cell_type": "code",
   "execution_count": 2,
   "id": "860485f7",
   "metadata": {},
   "outputs": [],
   "source": [
    "x = cv2.VideoCapture(0)"
   ]
  },
  {
   "cell_type": "code",
   "execution_count": 3,
   "id": "90784407",
   "metadata": {},
   "outputs": [],
   "source": [
    "status , photo = x.read()"
   ]
  },
  {
   "cell_type": "code",
   "execution_count": 4,
   "id": "d8f6e655",
   "metadata": {},
   "outputs": [
    {
     "data": {
      "text/plain": [
       "True"
      ]
     },
     "execution_count": 4,
     "metadata": {},
     "output_type": "execute_result"
    }
   ],
   "source": [
    "status\n"
   ]
  },
  {
   "cell_type": "code",
   "execution_count": 5,
   "id": "6198a095",
   "metadata": {},
   "outputs": [
    {
     "data": {
      "text/plain": [
       "array([[[164, 108, 124],\n",
       "        [170, 109, 122],\n",
       "        [177, 111, 119],\n",
       "        ...,\n",
       "        [220, 142, 143],\n",
       "        [216, 142, 140],\n",
       "        [217, 143, 140]],\n",
       "\n",
       "       [[167, 113, 121],\n",
       "        [169, 109, 117],\n",
       "        [172, 106, 115],\n",
       "        ...,\n",
       "        [224, 145, 143],\n",
       "        [221, 141, 140],\n",
       "        [223, 144, 142]],\n",
       "\n",
       "       [[175, 121, 129],\n",
       "        [169, 115, 121],\n",
       "        [174, 118, 123],\n",
       "        ...,\n",
       "        [225, 143, 142],\n",
       "        [221, 141, 140],\n",
       "        [224, 145, 143]],\n",
       "\n",
       "       ...,\n",
       "\n",
       "       [[127,  68, 117],\n",
       "        [124,  68, 118],\n",
       "        [119,  64, 117],\n",
       "        ...,\n",
       "        [255, 171,  73],\n",
       "        [255, 173,  73],\n",
       "        [255, 171,  71]],\n",
       "\n",
       "       [[114,  65, 122],\n",
       "        [109,  61, 115],\n",
       "        [113,  65, 117],\n",
       "        ...,\n",
       "        [255, 166,  70],\n",
       "        [255, 169,  74],\n",
       "        [255, 167,  72]],\n",
       "\n",
       "       [[111,  61, 118],\n",
       "        [107,  58, 113],\n",
       "        [108,  60, 112],\n",
       "        ...,\n",
       "        [255, 165,  69],\n",
       "        [255, 167,  72],\n",
       "        [255, 166,  71]]], dtype=uint8)"
      ]
     },
     "execution_count": 5,
     "metadata": {},
     "output_type": "execute_result"
    }
   ],
   "source": [
    "photo"
   ]
  },
  {
   "cell_type": "code",
   "execution_count": 6,
   "id": "8f117815",
   "metadata": {},
   "outputs": [
    {
     "data": {
      "text/plain": [
       "True"
      ]
     },
     "execution_count": 6,
     "metadata": {},
     "output_type": "execute_result"
    }
   ],
   "source": [
    "cv2.imwrite(\"lwtask.png\",photo)"
   ]
  },
  {
   "cell_type": "code",
   "execution_count": 7,
   "id": "2fa215ec",
   "metadata": {},
   "outputs": [
    {
     "data": {
      "text/plain": [
       "<function destroyAllWindows>"
      ]
     },
     "execution_count": 7,
     "metadata": {},
     "output_type": "execute_result"
    }
   ],
   "source": [
    "cv2.imshow(\"lwtask.png\",photo)\n",
    "cv2.waitKey(15000)\n",
    "cv2.destroyAllWindows\n"
   ]
  },
  {
   "cell_type": "code",
   "execution_count": 9,
   "id": "68812313",
   "metadata": {},
   "outputs": [],
   "source": [
    "x.release()"
   ]
  },
  {
   "cell_type": "code",
   "execution_count": null,
   "id": "3d17277d",
   "metadata": {},
   "outputs": [],
   "source": [
    "import cv2\n",
    "x = cv2.VideoCapture(0)\n",
    "status , photo = x.read()\n",
    "cv2.imwrite(\"lwtask.png\",photo)\n",
    "cv2.imshow(\"lwtask.png\",photo)\n",
    "cv2.waitKey(15000)\n",
    "cv2.destroyAllWindows\n"
   ]
  }
 ],
 "metadata": {
  "kernelspec": {
   "display_name": "Python 3 (ipykernel)",
   "language": "python",
   "name": "python3"
  },
  "language_info": {
   "codemirror_mode": {
    "name": "ipython",
    "version": 3
   },
   "file_extension": ".py",
   "mimetype": "text/x-python",
   "name": "python",
   "nbconvert_exporter": "python",
   "pygments_lexer": "ipython3",
   "version": "3.10.9"
  }
 },
 "nbformat": 4,
 "nbformat_minor": 5
}
