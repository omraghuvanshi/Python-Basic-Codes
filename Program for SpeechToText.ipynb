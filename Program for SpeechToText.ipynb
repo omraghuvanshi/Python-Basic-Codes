{
 "cells": [
  {
   "cell_type": "code",
   "execution_count": 1,
   "id": "d7895108",
   "metadata": {},
   "outputs": [
    {
     "name": "stdout",
     "output_type": "stream",
     "text": [
      "Defaulting to user installation because normal site-packages is not writeableNote: you may need to restart the kernel to use updated packages.\n",
      "\n",
      "Requirement already satisfied: SpeechRecognition in c:\\users\\omrag\\appdata\\roaming\\python\\python310\\site-packages (3.10.0)\n",
      "Requirement already satisfied: requests>=2.26.0 in c:\\programdata\\anaconda3\\lib\\site-packages (from SpeechRecognition) (2.28.1)\n",
      "Requirement already satisfied: charset-normalizer<3,>=2 in c:\\programdata\\anaconda3\\lib\\site-packages (from requests>=2.26.0->SpeechRecognition) (2.0.4)\n",
      "Requirement already satisfied: certifi>=2017.4.17 in c:\\programdata\\anaconda3\\lib\\site-packages (from requests>=2.26.0->SpeechRecognition) (2022.12.7)\n",
      "Requirement already satisfied: idna<4,>=2.5 in c:\\programdata\\anaconda3\\lib\\site-packages (from requests>=2.26.0->SpeechRecognition) (3.4)\n",
      "Requirement already satisfied: urllib3<1.27,>=1.21.1 in c:\\programdata\\anaconda3\\lib\\site-packages (from requests>=2.26.0->SpeechRecognition) (1.26.14)\n"
     ]
    }
   ],
   "source": [
    "pip install SpeechRecognition"
   ]
  },
  {
   "cell_type": "code",
   "execution_count": 2,
   "id": "8b80a9e6",
   "metadata": {},
   "outputs": [
    {
     "name": "stdout",
     "output_type": "stream",
     "text": [
      "Defaulting to user installation because normal site-packages is not writeable\n",
      "Collecting PyAudio\n",
      "  Downloading PyAudio-0.2.13-cp310-cp310-win_amd64.whl (164 kB)\n",
      "     -------------------------------------- 164.1/164.1 kB 3.3 MB/s eta 0:00:00\n",
      "Installing collected packages: PyAudio\n",
      "Successfully installed PyAudio-0.2.13\n",
      "Note: you may need to restart the kernel to use updated packages.\n"
     ]
    }
   ],
   "source": [
    "pip install PyAudio"
   ]
  },
  {
   "cell_type": "code",
   "execution_count": 11,
   "id": "599cf23f",
   "metadata": {},
   "outputs": [
    {
     "name": "stdout",
     "output_type": "stream",
     "text": [
      "Listening... Say something:\n",
      "Recognizing...\n",
      "You said: test for Python speech recognition\n"
     ]
    }
   ],
   "source": [
    "import speech_recognition as sr\n",
    "\n",
    "\n",
    "def speech_to_text():\n",
    "    recognizer = sr.Recognizer()#setting a recognizer object\n",
    "\n",
    "    with sr.Microphone() as source:\n",
    "        print(\"Listening... Say something:\")\n",
    "        recognizer.adjust_for_ambient_noise(source)#bg noise suppress\n",
    "        audio = recognizer.listen(source) #takes thr audio input \n",
    "\n",
    "    try:\n",
    "        print(\"Recognizing...\")\n",
    "        text = recognizer.recognize_google(audio) #google api used to recognize the audio input from the user\n",
    "        print(f\"You said: {text}\")\n",
    "    except sr.UnknownValueError:#if can't understand the audio\n",
    "        print(\"Sorry, could not understand audio.\")\n",
    "    except sr.RequestError as e:#if cant access search Api\n",
    "        print(f\"Error accessing Google Web Speech API; {e}\")\n",
    "        \n",
    "def \n",
    "     \n",
    "if __name__ == \"__main__\":\n",
    "    speech_to_text()\n",
    "    \n",
    "    \n",
    "\n",
    "\n",
    "\n",
    "\n",
    "\n",
    "\n",
    "\n"
   ]
  },
  {
   "cell_type": "code",
   "execution_count": 11,
   "id": "61d3952c",
   "metadata": {},
   "outputs": [
    {
     "name": "stdout",
     "output_type": "stream",
     "text": [
      "Listening... Say something:\n",
      "Recognizing...\n",
      "You said: Aur bhi kar sakte\n"
     ]
    }
   ],
   "source": [
    "     \n",
    "\n",
    "    speech_to_text()"
   ]
  },
  {
   "cell_type": "code",
   "execution_count": 13,
   "id": "b04fe726",
   "metadata": {},
   "outputs": [
    {
     "ename": "NameError",
     "evalue": "name 'system' is not defined",
     "output_type": "error",
     "traceback": [
      "\u001b[1;31m---------------------------------------------------------------------------\u001b[0m",
      "\u001b[1;31mNameError\u001b[0m                                 Traceback (most recent call last)",
      "Cell \u001b[1;32mIn[13], line 2\u001b[0m\n\u001b[0;32m      1\u001b[0m \u001b[38;5;28;01mimport\u001b[39;00m \u001b[38;5;21;01mos\u001b[39;00m\n\u001b[1;32m----> 2\u001b[0m \u001b[43msystem\u001b[49m(\u001b[38;5;124m'\u001b[39m\u001b[38;5;124mNotepad\u001b[39m\u001b[38;5;124m'\u001b[39m)\n",
      "\u001b[1;31mNameError\u001b[0m: name 'system' is not defined"
     ]
    }
   ],
   "source": [
    "import os\n",
    "system('Notepad')"
   ]
  },
  {
   "cell_type": "code",
   "execution_count": null,
   "id": "de177d65",
   "metadata": {},
   "outputs": [],
   "source": []
  }
 ],
 "metadata": {
  "kernelspec": {
   "display_name": "Python 3 (ipykernel)",
   "language": "python",
   "name": "python3"
  },
  "language_info": {
   "codemirror_mode": {
    "name": "ipython",
    "version": 3
   },
   "file_extension": ".py",
   "mimetype": "text/x-python",
   "name": "python",
   "nbconvert_exporter": "python",
   "pygments_lexer": "ipython3",
   "version": "3.10.9"
  }
 },
 "nbformat": 4,
 "nbformat_minor": 5
}
