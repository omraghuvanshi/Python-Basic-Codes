{
 "cells": [
  {
   "cell_type": "code",
   "execution_count": 2,
   "id": "bdf2cbbd",
   "metadata": {},
   "outputs": [],
   "source": [
    "import smtplib"
   ]
  },
  {
   "cell_type": "code",
   "execution_count": 4,
   "id": "5432e7a9",
   "metadata": {},
   "outputs": [],
   "source": [
    "smtp_server = 'smtp.gmail.com'\n",
    "smtp_port = 587  #for gmail\n",
    "sender_email = 'your_email_id'\n",
    "receiver_email = 'sender_email_id'\n",
    "password = \"your_app_password\"  # use app password\n"
   ]
  },
  {
   "cell_type": "code",
   "execution_count": 5,
   "id": "2768ac9c",
   "metadata": {},
   "outputs": [],
   "source": [
    "message = MIMEMultipart()\n",
    "message['From'] = sender_email\n",
    "message['To'] = receiver_email\n",
    "message['Subject'] = 'Test Email Subject'"
   ]
  },
  {
   "cell_type": "code",
   "execution_count": 6,
   "id": "dec6519b",
   "metadata": {},
   "outputs": [],
   "source": [
    "body = 'This is a demo email sent to one of my own accounts'\n",
    "message.attach(MIMEText(body, 'plain'))"
   ]
  },
  {
   "cell_type": "code",
   "execution_count": 24,
   "id": "5c71b66e",
   "metadata": {},
   "outputs": [
    {
     "name": "stdout",
     "output_type": "stream",
     "text": [
      "Email sent successfully!\n"
     ]
    }
   ],
   "source": [
    "try:\n",
    "    server = smtplib.SMTP(smtp_server, smtp_port)\n",
    "    server.starttls()  #encryption\n",
    "    server.login(sender_email, password)\n",
    "    server.sendmail(sender_email, receiver_email, message.as_string())\n",
    "    print('Email sent successfully!')\n",
    "except Exception as e:\n",
    "    print(f'Error: {e}')\n",
    "finally:\n",
    "    server.quit() "
   ]
  },
  {
   "cell_type": "code",
   "execution_count": null,
   "id": "9f0bdb0d",
   "metadata": {},
   "outputs": [],
   "source": [
    "kit.send_mail()"
   ]
  }
 ],
 "metadata": {
  "kernelspec": {
   "display_name": "Python 3 (ipykernel)",
   "language": "python",
   "name": "python3"
  },
  "language_info": {
   "codemirror_mode": {
    "name": "ipython",
    "version": 3
   },
   "file_extension": ".py",
   "mimetype": "text/x-python",
   "name": "python",
   "nbconvert_exporter": "python",
   "pygments_lexer": "ipython3",
   "version": "3.10.9"
  }
 },
 "nbformat": 4,
 "nbformat_minor": 5
}
